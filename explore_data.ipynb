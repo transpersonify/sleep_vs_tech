{
 "cells": [
  {
   "cell_type": "code",
   "execution_count": 2,
   "id": "e56bab9b",
   "metadata": {},
   "outputs": [],
   "source": [
    "%matplotlib inline\n",
    "\n",
    "import pandas as pd\n",
    "import matplotlib.pyplot as plt\n",
    "plt.rcParams['lines.linewidth'] = 2 # set the value globally\n",
    "import seaborn as sns"
   ]
  },
  {
   "cell_type": "markdown",
   "id": "35f8a3a4",
   "metadata": {},
   "source": [
    "This data was obtained from : http://kaggle.com/mlomuscio/sleepstudypilot\n",
    "\n",
    "Data collected from a survey-based study of the sleeping habits of individuals within the US. This data was conducted as a pilot study to determine whether or not students were satisfied with the survey.\n",
    "\n",
    "Here is a description of each of the variables contained within the dataset.\n",
    "\n",
    "Enough = Do you think that you get enough sleep?\n",
    "\n",
    "Hours = On average, how many hours of sleep do you get on a weeknight?\n",
    "\n",
    "PhoneReach = Do you sleep with your phone within arms reach?\n",
    "\n",
    "PhoneTime = Do you use your phone within 30 minutes of falling asleep?\n",
    "\n",
    "Tired = On a scale from 1 to 5, how tired are you throughout the day? (1 being not tired, 5 being very tired)\n",
    "\n",
    "Breakfast = Do you typically eat breakfast?\n",
    "\n",
    "First let's explore few things about data..."
   ]
  },
  {
   "cell_type": "code",
   "execution_count": 5,
   "id": "a88e7c82",
   "metadata": {},
   "outputs": [
    {
     "data": {
      "text/html": [
       "<div>\n",
       "<style scoped>\n",
       "    .dataframe tbody tr th:only-of-type {\n",
       "        vertical-align: middle;\n",
       "    }\n",
       "\n",
       "    .dataframe tbody tr th {\n",
       "        vertical-align: top;\n",
       "    }\n",
       "\n",
       "    .dataframe thead th {\n",
       "        text-align: right;\n",
       "    }\n",
       "</style>\n",
       "<table border=\"1\" class=\"dataframe\">\n",
       "  <thead>\n",
       "    <tr style=\"text-align: right;\">\n",
       "      <th></th>\n",
       "      <th>Enough</th>\n",
       "      <th>Hours</th>\n",
       "      <th>PhoneReach</th>\n",
       "      <th>PhoneTime</th>\n",
       "      <th>Tired</th>\n",
       "      <th>Breakfast</th>\n",
       "    </tr>\n",
       "  </thead>\n",
       "  <tbody>\n",
       "    <tr>\n",
       "      <th>0</th>\n",
       "      <td>Yes</td>\n",
       "      <td>8.0</td>\n",
       "      <td>Yes</td>\n",
       "      <td>Yes</td>\n",
       "      <td>3</td>\n",
       "      <td>Yes</td>\n",
       "    </tr>\n",
       "    <tr>\n",
       "      <th>1</th>\n",
       "      <td>No</td>\n",
       "      <td>6.0</td>\n",
       "      <td>Yes</td>\n",
       "      <td>Yes</td>\n",
       "      <td>3</td>\n",
       "      <td>No</td>\n",
       "    </tr>\n",
       "    <tr>\n",
       "      <th>2</th>\n",
       "      <td>Yes</td>\n",
       "      <td>6.0</td>\n",
       "      <td>Yes</td>\n",
       "      <td>Yes</td>\n",
       "      <td>2</td>\n",
       "      <td>Yes</td>\n",
       "    </tr>\n",
       "    <tr>\n",
       "      <th>3</th>\n",
       "      <td>No</td>\n",
       "      <td>7.0</td>\n",
       "      <td>Yes</td>\n",
       "      <td>Yes</td>\n",
       "      <td>4</td>\n",
       "      <td>No</td>\n",
       "    </tr>\n",
       "    <tr>\n",
       "      <th>4</th>\n",
       "      <td>No</td>\n",
       "      <td>7.0</td>\n",
       "      <td>Yes</td>\n",
       "      <td>Yes</td>\n",
       "      <td>2</td>\n",
       "      <td>Yes</td>\n",
       "    </tr>\n",
       "  </tbody>\n",
       "</table>\n",
       "</div>"
      ],
      "text/plain": [
       "  Enough  Hours PhoneReach PhoneTime  Tired Breakfast\n",
       "0    Yes    8.0        Yes       Yes      3       Yes\n",
       "1     No    6.0        Yes       Yes      3        No\n",
       "2    Yes    6.0        Yes       Yes      2       Yes\n",
       "3     No    7.0        Yes       Yes      4        No\n",
       "4     No    7.0        Yes       Yes      2       Yes"
      ]
     },
     "execution_count": 5,
     "metadata": {},
     "output_type": "execute_result"
    }
   ],
   "source": [
    "df = pd.read_csv('SleepStudyData.csv')\n",
    "df.head()"
   ]
  },
  {
   "cell_type": "code",
   "execution_count": 6,
   "id": "b876ad78",
   "metadata": {},
   "outputs": [
    {
     "data": {
      "text/html": [
       "<div>\n",
       "<style scoped>\n",
       "    .dataframe tbody tr th:only-of-type {\n",
       "        vertical-align: middle;\n",
       "    }\n",
       "\n",
       "    .dataframe tbody tr th {\n",
       "        vertical-align: top;\n",
       "    }\n",
       "\n",
       "    .dataframe thead th {\n",
       "        text-align: right;\n",
       "    }\n",
       "</style>\n",
       "<table border=\"1\" class=\"dataframe\">\n",
       "  <thead>\n",
       "    <tr style=\"text-align: right;\">\n",
       "      <th></th>\n",
       "      <th>Enough</th>\n",
       "      <th>Hours</th>\n",
       "      <th>PhoneReach</th>\n",
       "      <th>PhoneTime</th>\n",
       "      <th>Tired</th>\n",
       "      <th>Breakfast</th>\n",
       "    </tr>\n",
       "  </thead>\n",
       "  <tbody>\n",
       "    <tr>\n",
       "      <th>count</th>\n",
       "      <td>104</td>\n",
       "      <td>102.000000</td>\n",
       "      <td>104</td>\n",
       "      <td>104</td>\n",
       "      <td>104.000000</td>\n",
       "      <td>104</td>\n",
       "    </tr>\n",
       "    <tr>\n",
       "      <th>unique</th>\n",
       "      <td>2</td>\n",
       "      <td>NaN</td>\n",
       "      <td>2</td>\n",
       "      <td>2</td>\n",
       "      <td>NaN</td>\n",
       "      <td>2</td>\n",
       "    </tr>\n",
       "    <tr>\n",
       "      <th>top</th>\n",
       "      <td>No</td>\n",
       "      <td>NaN</td>\n",
       "      <td>Yes</td>\n",
       "      <td>Yes</td>\n",
       "      <td>NaN</td>\n",
       "      <td>Yes</td>\n",
       "    </tr>\n",
       "    <tr>\n",
       "      <th>freq</th>\n",
       "      <td>68</td>\n",
       "      <td>NaN</td>\n",
       "      <td>72</td>\n",
       "      <td>84</td>\n",
       "      <td>NaN</td>\n",
       "      <td>63</td>\n",
       "    </tr>\n",
       "    <tr>\n",
       "      <th>mean</th>\n",
       "      <td>NaN</td>\n",
       "      <td>6.656863</td>\n",
       "      <td>NaN</td>\n",
       "      <td>NaN</td>\n",
       "      <td>3.076923</td>\n",
       "      <td>NaN</td>\n",
       "    </tr>\n",
       "    <tr>\n",
       "      <th>std</th>\n",
       "      <td>NaN</td>\n",
       "      <td>1.417676</td>\n",
       "      <td>NaN</td>\n",
       "      <td>NaN</td>\n",
       "      <td>1.011510</td>\n",
       "      <td>NaN</td>\n",
       "    </tr>\n",
       "    <tr>\n",
       "      <th>min</th>\n",
       "      <td>NaN</td>\n",
       "      <td>2.000000</td>\n",
       "      <td>NaN</td>\n",
       "      <td>NaN</td>\n",
       "      <td>1.000000</td>\n",
       "      <td>NaN</td>\n",
       "    </tr>\n",
       "    <tr>\n",
       "      <th>25%</th>\n",
       "      <td>NaN</td>\n",
       "      <td>6.000000</td>\n",
       "      <td>NaN</td>\n",
       "      <td>NaN</td>\n",
       "      <td>2.000000</td>\n",
       "      <td>NaN</td>\n",
       "    </tr>\n",
       "    <tr>\n",
       "      <th>50%</th>\n",
       "      <td>NaN</td>\n",
       "      <td>7.000000</td>\n",
       "      <td>NaN</td>\n",
       "      <td>NaN</td>\n",
       "      <td>3.000000</td>\n",
       "      <td>NaN</td>\n",
       "    </tr>\n",
       "    <tr>\n",
       "      <th>75%</th>\n",
       "      <td>NaN</td>\n",
       "      <td>7.000000</td>\n",
       "      <td>NaN</td>\n",
       "      <td>NaN</td>\n",
       "      <td>4.000000</td>\n",
       "      <td>NaN</td>\n",
       "    </tr>\n",
       "    <tr>\n",
       "      <th>max</th>\n",
       "      <td>NaN</td>\n",
       "      <td>10.000000</td>\n",
       "      <td>NaN</td>\n",
       "      <td>NaN</td>\n",
       "      <td>5.000000</td>\n",
       "      <td>NaN</td>\n",
       "    </tr>\n",
       "  </tbody>\n",
       "</table>\n",
       "</div>"
      ],
      "text/plain": [
       "       Enough       Hours PhoneReach PhoneTime       Tired Breakfast\n",
       "count     104  102.000000        104       104  104.000000       104\n",
       "unique      2         NaN          2         2         NaN         2\n",
       "top        No         NaN        Yes       Yes         NaN       Yes\n",
       "freq       68         NaN         72        84         NaN        63\n",
       "mean      NaN    6.656863        NaN       NaN    3.076923       NaN\n",
       "std       NaN    1.417676        NaN       NaN    1.011510       NaN\n",
       "min       NaN    2.000000        NaN       NaN    1.000000       NaN\n",
       "25%       NaN    6.000000        NaN       NaN    2.000000       NaN\n",
       "50%       NaN    7.000000        NaN       NaN    3.000000       NaN\n",
       "75%       NaN    7.000000        NaN       NaN    4.000000       NaN\n",
       "max       NaN   10.000000        NaN       NaN    5.000000       NaN"
      ]
     },
     "execution_count": 6,
     "metadata": {},
     "output_type": "execute_result"
    }
   ],
   "source": [
    "df.describe(include='all') "
   ]
  },
  {
   "cell_type": "markdown",
   "id": "56101377",
   "metadata": {},
   "source": [
    "There are only 104 subjects and 2 values are missing in avg hours of sleep. 68/104 people reported not sleeping well, 72 / 104 suggesting they keep phone in arm's reach and 84/104 reported using phone within 30 mins before sleep. 63/104 have breakfast while others not."
   ]
  },
  {
   "cell_type": "markdown",
   "id": "c2a0ceeb",
   "metadata": {},
   "source": [
    "First we will explore whether there is a descrepency between the two types of answers. (Whether they get enough sleep and hours they slept)"
   ]
  },
  {
   "cell_type": "code",
   "execution_count": 25,
   "id": "13328950",
   "metadata": {},
   "outputs": [
    {
     "data": {
      "text/plain": [
       "<AxesSubplot:xlabel='Enough', ylabel='Hours'>"
      ]
     },
     "execution_count": 25,
     "metadata": {},
     "output_type": "execute_result"
    },
    {
     "data": {
      "image/png": "[encoded data removed]",
      "text/plain": [
       "<Figure size 432x288 with 1 Axes>"
      ]
     },
     "metadata": {
      "needs_background": "light"
     },
     "output_type": "display_data"
    }
   ],
   "source": [
    "sns.boxplot(x = 'Enough',y = 'Hours',data=df)\n",
    "sns.stripplot(x=\"Enough\", y=\"Hours\", data=df,\n",
    "              size=6, color=\".3\", linewidth=0)\n"
   ]
  },
  {
   "cell_type": "code",
   "execution_count": 10,
   "id": "96ba4d72",
   "metadata": {},
   "outputs": [
    {
     "data": {
      "text/html": [
       "<div>\n",
       "<style scoped>\n",
       "    .dataframe tbody tr th:only-of-type {\n",
       "        vertical-align: middle;\n",
       "    }\n",
       "\n",
       "    .dataframe tbody tr th {\n",
       "        vertical-align: top;\n",
       "    }\n",
       "\n",
       "    .dataframe thead th {\n",
       "        text-align: right;\n",
       "    }\n",
       "</style>\n",
       "<table border=\"1\" class=\"dataframe\">\n",
       "  <thead>\n",
       "    <tr style=\"text-align: right;\">\n",
       "      <th></th>\n",
       "      <th>Hours</th>\n",
       "      <th>Tired</th>\n",
       "    </tr>\n",
       "    <tr>\n",
       "      <th>Enough</th>\n",
       "      <th></th>\n",
       "      <th></th>\n",
       "    </tr>\n",
       "  </thead>\n",
       "  <tbody>\n",
       "    <tr>\n",
       "      <th>Yes</th>\n",
       "      <td>7.400000</td>\n",
       "      <td>2.500000</td>\n",
       "    </tr>\n",
       "    <tr>\n",
       "      <th>No</th>\n",
       "      <td>6.268657</td>\n",
       "      <td>3.382353</td>\n",
       "    </tr>\n",
       "  </tbody>\n",
       "</table>\n",
       "</div>"
      ],
      "text/plain": [
       "           Hours     Tired\n",
       "Enough                    \n",
       "Yes     7.400000  2.500000\n",
       "No      6.268657  3.382353"
      ]
     },
     "execution_count": 10,
     "metadata": {},
     "output_type": "execute_result"
    }
   ],
   "source": [
    "df.groupby(pd.Grouper(key=\"Enough\")).mean()"
   ]
  },
  {
   "cell_type": "markdown",
   "id": "dcc782dc",
   "metadata": {},
   "source": [
    "Here we can see that on average, those who slept enough, slept for ~1 hour more than those who reported not sleeping well! Also the average tiredness score was one whole point lower for those who slept well than those who didn't.\n",
    "\n",
    "Another thing to note from the boxplot is, There is less variability in the group that reported sleeping well as compared to group that reported not sleeping well. \n",
    "\n",
    "Next let's look closely at the relationship between feeling tired and sleep hours"
   ]
  },
  {
   "cell_type": "code",
   "execution_count": 22,
   "id": "1d8a7f42",
   "metadata": {},
   "outputs": [
    {
     "data": {
      "text/plain": [
       "Text(0.5, 0, 'Intensity of Tiredness')"
      ]
     },
     "execution_count": 22,
     "metadata": {},
     "output_type": "execute_result"
    },
    {
     "data": {
      "image/png": "[encoded data removed]",
      "text/plain": [
       "<Figure size 432x288 with 1 Axes>"
      ]
     },
     "metadata": {
      "needs_background": "light"
     },
     "output_type": "display_data"
    }
   ],
   "source": [
    "sns.barplot(x = 'Tired',y='Hours',data=df)\n",
    "plt.ylabel('Hours of Sleep')\n",
    "plt.xlabel('Intensity of Tiredness')"
   ]
  },
  {
   "cell_type": "code",
   "execution_count": 19,
   "id": "bc8d8f5b",
   "metadata": {},
   "outputs": [
    {
     "data": {
      "text/html": [
       "<div>\n",
       "<style scoped>\n",
       "    .dataframe tbody tr th:only-of-type {\n",
       "        vertical-align: middle;\n",
       "    }\n",
       "\n",
       "    .dataframe tbody tr th {\n",
       "        vertical-align: top;\n",
       "    }\n",
       "\n",
       "    .dataframe thead th {\n",
       "        text-align: right;\n",
       "    }\n",
       "</style>\n",
       "<table border=\"1\" class=\"dataframe\">\n",
       "  <thead>\n",
       "    <tr style=\"text-align: right;\">\n",
       "      <th></th>\n",
       "      <th>Tired</th>\n",
       "      <th>Hours</th>\n",
       "    </tr>\n",
       "  </thead>\n",
       "  <tbody>\n",
       "    <tr>\n",
       "      <th>4</th>\n",
       "      <td>1</td>\n",
       "      <td>8.000000</td>\n",
       "    </tr>\n",
       "    <tr>\n",
       "      <th>1</th>\n",
       "      <td>2</td>\n",
       "      <td>6.653846</td>\n",
       "    </tr>\n",
       "    <tr>\n",
       "      <th>0</th>\n",
       "      <td>3</td>\n",
       "      <td>6.717949</td>\n",
       "    </tr>\n",
       "    <tr>\n",
       "      <th>2</th>\n",
       "      <td>4</td>\n",
       "      <td>6.739130</td>\n",
       "    </tr>\n",
       "    <tr>\n",
       "      <th>3</th>\n",
       "      <td>5</td>\n",
       "      <td>5.700000</td>\n",
       "    </tr>\n",
       "  </tbody>\n",
       "</table>\n",
       "</div>"
      ],
      "text/plain": [
       "   Tired     Hours\n",
       "4      1  8.000000\n",
       "1      2  6.653846\n",
       "0      3  6.717949\n",
       "2      4  6.739130\n",
       "3      5  5.700000"
      ]
     },
     "execution_count": 19,
     "metadata": {},
     "output_type": "execute_result"
    }
   ],
   "source": [
    "df.groupby(pd.Grouper(key=\"Tired\")).mean().reset_index().sort_values('Tired')"
   ]
  },
  {
   "cell_type": "markdown",
   "id": "a8316912",
   "metadata": {},
   "source": [
    "Those who felt least tired slept longer ~8 hrs which is an international average sleep score, in comparison to those who felt most tired slept who slept on average 5.7 hrs.\n",
    "\n",
    "\n",
    "Now Let's see relationship between phone use and sleep sufficiency."
   ]
  },
  {
   "cell_type": "code",
   "execution_count": 20,
   "id": "eec9d1c7",
   "metadata": {},
   "outputs": [],
   "source": [
    "pp_df = df.copy()\n",
    "pp_df.Enough = pp_df.Enough.eq('Yes').mul(1)\n",
    "pp_df.PhoneReach = pp_df.PhoneReach.eq('Yes').mul(1)\n",
    "pp_df.PhoneTime = pp_df.PhoneTime.eq('Yes').mul(1)\n",
    "pp_df.Breakfast = pp_df.Breakfast.eq('Yes').mul(1)\n",
    "                                        "
   ]
  },
  {
   "cell_type": "code",
   "execution_count": 21,
   "id": "b00e90f6",
   "metadata": {},
   "outputs": [
    {
     "data": {
      "text/plain": [
       "Text(0.5, 1.0, 'Sleep Hours by Phone Reach Preference')"
      ]
     },
     "execution_count": 21,
     "metadata": {},
     "output_type": "execute_result"
    },
    {
     "data": {
      "image/png": "[encoded data removed]",
      "text/plain": [
       "<Figure size 432x288 with 1 Axes>"
      ]
     },
     "metadata": {
      "needs_background": "light"
     },
     "output_type": "display_data"
    },
    {
     "data": {
      "image/png": "[encoded data removed]",
      "text/plain": [
       "<Figure size 432x288 with 1 Axes>"
      ]
     },
     "metadata": {
      "needs_background": "light"
     },
     "output_type": "display_data"
    }
   ],
   "source": [
    "sns.barplot(x = 'PhoneTime',y='Hours',data=df)\n",
    "plt.title('Sleep Hours by Phone Use Preference')\n",
    "plt.figure()\n",
    "sns.barplot(x='PhoneReach',y='Hours',data=df)\n",
    "plt.title('Sleep Hours by Phone Reach Preference')\n"
   ]
  },
  {
   "cell_type": "markdown",
   "id": "2605418b",
   "metadata": {},
   "source": [
    "Looks like there is no difference at all in total sleep hours between those who use phone and those who don't.\n",
    "\n",
    "However, let's see if there is a difference in their perception of sleep quality.\n",
    "i.e., What is the percentage of people saying they slept enough when they use or don't use phone."
   ]
  },
  {
   "cell_type": "code",
   "execution_count": 23,
   "id": "025149fb",
   "metadata": {},
   "outputs": [
    {
     "data": {
      "text/plain": [
       "Text(0.5, 1.0, 'probability of Enough sleep \"yes\" Reports')"
      ]
     },
     "execution_count": 23,
     "metadata": {},
     "output_type": "execute_result"
    },
    {
     "data": {
      "image/png": "[encoded data removed]",
      "text/plain": [
       "<Figure size 432x288 with 1 Axes>"
      ]
     },
     "metadata": {
      "needs_background": "light"
     },
     "output_type": "display_data"
    },
    {
     "data": {
      "image/png": "[encoded data removed]",
      "text/plain": [
       "<Figure size 432x288 with 1 Axes>"
      ]
     },
     "metadata": {
      "needs_background": "light"
     },
     "output_type": "display_data"
    }
   ],
   "source": [
    "sns.barplot(x='PhoneReach',y='Enough',data = pp_df)\n",
    "plt.title('Phone Reach ')\n",
    "plt.title('probability of Enough sleep \"yes\" Reports')\n",
    "plt.figure()\n",
    "\n",
    "sns.barplot(x='PhoneTime',y='Enough',data=pp_df)\n",
    "plt.title('Phone Time ')\n",
    "plt.title('probability of Enough sleep \"yes\" Reports')\n",
    "\n"
   ]
  },
  {
   "cell_type": "markdown",
   "id": "6ef6b112",
   "metadata": {},
   "source": [
    "Those who sleep close to Phone are less likely to say that they had enough sleep as compared to those who sleep away from phone, but there was no such relation between those who used phone in the last 30 mins and those who didn't.\n",
    "\n",
    "We will have to dig deeper into these analyses, since remember, we already have most people using phones, \n",
    "\n",
    "But for now, let's look at breakfast and tiredness."
   ]
  },
  {
   "cell_type": "code",
   "execution_count": 91,
   "id": "7bf0288e",
   "metadata": {},
   "outputs": [
    {
     "data": {
      "text/plain": [
       "Text(0.5, 0, 'Tiredness Score')"
      ]
     },
     "execution_count": 91,
     "metadata": {},
     "output_type": "execute_result"
    },
    {
     "data": {
      "image/png": "[encoded data removed]",
      "text/plain": [
       "<Figure size 432x288 with 1 Axes>"
      ]
     },
     "metadata": {
      "needs_background": "light"
     },
     "output_type": "display_data"
    }
   ],
   "source": [
    "sns.barplot(x='Tired',y='Breakfast',data = pp_df)\n",
    "plt.xlabel('Tiredness Score')"
   ]
  },
  {
   "cell_type": "markdown",
   "id": "0fe226db",
   "metadata": {},
   "source": [
    "Those who feel less tired are also the ones who are more likely to report having breakfast, this isn't surprising, or is it? Now let's check whether this relationship is mediated by the phone use."
   ]
  },
  {
   "cell_type": "code",
   "execution_count": 25,
   "id": "b59ed99f",
   "metadata": {},
   "outputs": [
    {
     "data": {
      "text/plain": [
       "<AxesSubplot:xlabel='PhoneReach', ylabel='Tired'>"
      ]
     },
     "execution_count": 25,
     "metadata": {},
     "output_type": "execute_result"
    },
    {
     "data": {
      "image/png": "[encoded data removed]",
      "text/plain": [
       "<Figure size 432x288 with 1 Axes>"
      ]
     },
     "metadata": {
      "needs_background": "light"
     },
     "output_type": "display_data"
    },
    {
     "data": {
      "image/png": "[encoded data removed]",
      "text/plain": [
       "<Figure size 432x288 with 1 Axes>"
      ]
     },
     "metadata": {
      "needs_background": "light"
     },
     "output_type": "display_data"
    }
   ],
   "source": [
    "sns.barplot(x='PhoneTime',y='Tired',data = pp_df)\n",
    "plt.figure()\n",
    "sns.barplot(x='PhoneReach',y='Tired',data = pp_df)\n"
   ]
  },
  {
   "cell_type": "markdown",
   "id": "108612a0",
   "metadata": {},
   "source": [
    "From these graphs, It looks like there is no difference between tiredness scores and phone use."
   ]
  },
  {
   "cell_type": "markdown",
   "id": "3fd468d5",
   "metadata": {},
   "source": [
    "Finally, is there a relationship between having breakfast and using phone in the night?\n"
   ]
  },
  {
   "cell_type": "code",
   "execution_count": 26,
   "id": "ea9b5038",
   "metadata": {},
   "outputs": [
    {
     "data": {
      "text/plain": [
       "<AxesSubplot:xlabel='PhoneReach', ylabel='Breakfast'>"
      ]
     },
     "execution_count": 26,
     "metadata": {},
     "output_type": "execute_result"
    },
    {
     "data": {
      "image/png": "[encoded data removed]",
      "text/plain": [
       "<Figure size 432x288 with 1 Axes>"
      ]
     },
     "metadata": {
      "needs_background": "light"
     },
     "output_type": "display_data"
    },
    {
     "data": {
      "image/png": "[encoded data removed]",
      "text/plain": [
       "<Figure size 432x288 with 1 Axes>"
      ]
     },
     "metadata": {
      "needs_background": "light"
     },
     "output_type": "display_data"
    }
   ],
   "source": [
    "sns.barplot(x='PhoneTime',y='Breakfast',data = pp_df)\n",
    "plt.figure()\n",
    "sns.barplot(x='PhoneReach',y='Breakfast',data = pp_df)\n",
    "\n"
   ]
  },
  {
   "cell_type": "markdown",
   "id": "06fbeaf3",
   "metadata": {},
   "source": [
    "Wow, there is no effect of using phone in the last 30 mins before sleep, but there is a clear effect of whether phone is in arm's reach.\n",
    "\n",
    "People who don't keep phones close to them are more likely to have breakfast than those who don't. We could speculate that those who keep their phones close to them, are likely to use phones in bed in the morning, and hence less likely to have breakfast."
   ]
  },
  {
   "cell_type": "code",
   "execution_count": 28,
   "id": "bc380407",
   "metadata": {},
   "outputs": [
    {
     "data": {
      "text/html": [
       "<div>\n",
       "<style scoped>\n",
       "    .dataframe tbody tr th:only-of-type {\n",
       "        vertical-align: middle;\n",
       "    }\n",
       "\n",
       "    .dataframe tbody tr th {\n",
       "        vertical-align: top;\n",
       "    }\n",
       "\n",
       "    .dataframe thead th {\n",
       "        text-align: right;\n",
       "    }\n",
       "</style>\n",
       "<table border=\"1\" class=\"dataframe\">\n",
       "  <thead>\n",
       "    <tr style=\"text-align: right;\">\n",
       "      <th></th>\n",
       "      <th>Enough</th>\n",
       "      <th>Hours</th>\n",
       "      <th>PhoneTime</th>\n",
       "      <th>Tired</th>\n",
       "      <th>Breakfast</th>\n",
       "    </tr>\n",
       "    <tr>\n",
       "      <th>PhoneReach</th>\n",
       "      <th></th>\n",
       "      <th></th>\n",
       "      <th></th>\n",
       "      <th></th>\n",
       "      <th></th>\n",
       "    </tr>\n",
       "  </thead>\n",
       "  <tbody>\n",
       "    <tr>\n",
       "      <th>1</th>\n",
       "      <td>0.319444</td>\n",
       "      <td>6.605634</td>\n",
       "      <td>0.847222</td>\n",
       "      <td>3.027778</td>\n",
       "      <td>0.527778</td>\n",
       "    </tr>\n",
       "    <tr>\n",
       "      <th>0</th>\n",
       "      <td>0.406250</td>\n",
       "      <td>6.774194</td>\n",
       "      <td>0.718750</td>\n",
       "      <td>3.187500</td>\n",
       "      <td>0.781250</td>\n",
       "    </tr>\n",
       "  </tbody>\n",
       "</table>\n",
       "</div>"
      ],
      "text/plain": [
       "              Enough     Hours  PhoneTime     Tired  Breakfast\n",
       "PhoneReach                                                    \n",
       "1           0.319444  6.605634   0.847222  3.027778   0.527778\n",
       "0           0.406250  6.774194   0.718750  3.187500   0.781250"
      ]
     },
     "execution_count": 28,
     "metadata": {},
     "output_type": "execute_result"
    }
   ],
   "source": [
    "pp_df.groupby(pd.Grouper(key=\"PhoneReach\")).mean()"
   ]
  },
  {
   "cell_type": "markdown",
   "id": "7da05ed1",
   "metadata": {},
   "source": [
    "This is interesting, those who kept phone close to them and those who didn't, slept almost the same number of hours,\n",
    "but look at the \"Breakfast\" field. 52% of those who kept phones in arm's reach had breakfast as compared to 78% in the group who didn't keep phone close to them.\n"
   ]
  },
  {
   "cell_type": "markdown",
   "id": "661b8cac",
   "metadata": {},
   "source": [
    "Now the last thing that looks interesting from the above column is to test whether those who kept phones in arm's reach are also likely to report differently on whether they had enough sleep or not.\n"
   ]
  },
  {
   "cell_type": "code",
   "execution_count": 80,
   "id": "3d533d1b",
   "metadata": {},
   "outputs": [
    {
     "data": {
      "text/plain": [
       "<AxesSubplot:xlabel='PhoneReach', ylabel='Enough'>"
      ]
     },
     "execution_count": 80,
     "metadata": {},
     "output_type": "execute_result"
    },
    {
     "data": {
      "image/png": "[encoded data removed]",
      "text/plain": [
       "<Figure size 432x288 with 1 Axes>"
      ]
     },
     "metadata": {
      "needs_background": "light"
     },
     "output_type": "display_data"
    }
   ],
   "source": [
    "sns.barplot(x='PhoneReach',y='Enough',data = pp_df)\n"
   ]
  },
  {
   "cell_type": "markdown",
   "id": "6cc195fe",
   "metadata": {},
   "source": [
    "Looks like there is a slight difference, but most likely not significant."
   ]
  },
  {
   "cell_type": "markdown",
   "id": "10ec1d2a",
   "metadata": {},
   "source": [
    "One can also wonder, Is there a relationship between sleeping hours and having breakfast?"
   ]
  },
  {
   "cell_type": "code",
   "execution_count": 82,
   "id": "0ab59052",
   "metadata": {},
   "outputs": [
    {
     "data": {
      "text/plain": [
       "<AxesSubplot:xlabel='Breakfast', ylabel='Hours'>"
      ]
     },
     "execution_count": 82,
     "metadata": {},
     "output_type": "execute_result"
    },
    {
     "data": {
      "image/png": "[encoded data removed]",
      "text/plain": [
       "<Figure size 432x288 with 1 Axes>"
      ]
     },
     "metadata": {
      "needs_background": "light"
     },
     "output_type": "display_data"
    }
   ],
   "source": [
    "sns.boxplot(x='Breakfast',y='Hours',data = pp_df)\n",
    "sns.stripplot(x=\"Breakfast\", y=\"Hours\", data=df,\n",
    "              size=6, color=\".3\", linewidth=0)"
   ]
  },
  {
   "cell_type": "markdown",
   "id": "323697a0",
   "metadata": {},
   "source": [
    "The two distributions are very close, likely there isn't a relation."
   ]
  },
  {
   "cell_type": "markdown",
   "id": "b812cce1",
   "metadata": {},
   "source": [
    "# Let's look at the data more carefully now"
   ]
  },
  {
   "cell_type": "code",
   "execution_count": 31,
   "id": "070d2cef",
   "metadata": {},
   "outputs": [],
   "source": [
    "import scipy.stats as spstats"
   ]
  },
  {
   "cell_type": "markdown",
   "id": "11ca6b0b",
   "metadata": {},
   "source": [
    "### Breakfast vs Tiredness"
   ]
  },
  {
   "cell_type": "markdown",
   "id": "fe4d31be",
   "metadata": {},
   "source": [
    "First let's find out if there is a significant relation between feeling tired and having breakfast or not (from the graph above, we expect a relation!)\n",
    " \n",
    "Since these are both categorical variable, first we need to build a contingency table. i.e. # of subjects in each category.\n"
   ]
  },
  {
   "cell_type": "code",
   "execution_count": 46,
   "id": "8b10915c",
   "metadata": {},
   "outputs": [
    {
     "data": {
      "text/html": [
       "<div>\n",
       "<style scoped>\n",
       "    .dataframe tbody tr th:only-of-type {\n",
       "        vertical-align: middle;\n",
       "    }\n",
       "\n",
       "    .dataframe tbody tr th {\n",
       "        vertical-align: top;\n",
       "    }\n",
       "\n",
       "    .dataframe thead th {\n",
       "        text-align: right;\n",
       "    }\n",
       "</style>\n",
       "<table border=\"1\" class=\"dataframe\">\n",
       "  <thead>\n",
       "    <tr style=\"text-align: right;\">\n",
       "      <th>Breakfast</th>\n",
       "      <th>No</th>\n",
       "      <th>Yes</th>\n",
       "    </tr>\n",
       "    <tr>\n",
       "      <th>Tired</th>\n",
       "      <th></th>\n",
       "      <th></th>\n",
       "    </tr>\n",
       "  </thead>\n",
       "  <tbody>\n",
       "    <tr>\n",
       "      <th>1</th>\n",
       "      <td>1</td>\n",
       "      <td>3</td>\n",
       "    </tr>\n",
       "    <tr>\n",
       "      <th>2</th>\n",
       "      <td>7</td>\n",
       "      <td>20</td>\n",
       "    </tr>\n",
       "    <tr>\n",
       "      <th>3</th>\n",
       "      <td>15</td>\n",
       "      <td>25</td>\n",
       "    </tr>\n",
       "    <tr>\n",
       "      <th>4</th>\n",
       "      <td>11</td>\n",
       "      <td>12</td>\n",
       "    </tr>\n",
       "    <tr>\n",
       "      <th>5</th>\n",
       "      <td>7</td>\n",
       "      <td>3</td>\n",
       "    </tr>\n",
       "  </tbody>\n",
       "</table>\n",
       "</div>"
      ],
      "text/plain": [
       "Breakfast  No  Yes\n",
       "Tired             \n",
       "1           1    3\n",
       "2           7   20\n",
       "3          15   25\n",
       "4          11   12\n",
       "5           7    3"
      ]
     },
     "execution_count": 46,
     "metadata": {},
     "output_type": "execute_result"
    }
   ],
   "source": [
    "cont_table = pd.crosstab(df.Tired, df.Breakfast)\n",
    "cont_table"
   ]
  },
  {
   "cell_type": "markdown",
   "id": "c60e137a",
   "metadata": {},
   "source": [
    "First thing to note here is how imbalanced these categories are! e.g. there are only 4 total people who reported not feeling tired at all, in comparison to 40 people who reported an average tiredness score of 3. So the conclusions that we drew just by looking at the bar plots might not be accurate!"
   ]
  },
  {
   "cell_type": "markdown",
   "id": "45f61657",
   "metadata": {},
   "source": [
    "We will use a chi-squared statistics, that allows us to test if the joint distributions in both categories is uniform, meaning wheteher these two variables are independent (this is our null hypothesis, or a counter hypothesis)."
   ]
  },
  {
   "cell_type": "code",
   "execution_count": 56,
   "id": "6b3ff21c",
   "metadata": {},
   "outputs": [
    {
     "name": "stdout",
     "output_type": "stream",
     "text": [
      "chi2 =  7.099959704067791\n",
      "p-val =  0.13069916497954134\n",
      "expeted=\n"
     ]
    },
    {
     "data": {
      "text/html": [
       "<div>\n",
       "<style scoped>\n",
       "    .dataframe tbody tr th:only-of-type {\n",
       "        vertical-align: middle;\n",
       "    }\n",
       "\n",
       "    .dataframe tbody tr th {\n",
       "        vertical-align: top;\n",
       "    }\n",
       "\n",
       "    .dataframe thead th {\n",
       "        text-align: right;\n",
       "    }\n",
       "</style>\n",
       "<table border=\"1\" class=\"dataframe\">\n",
       "  <thead>\n",
       "    <tr style=\"text-align: right;\">\n",
       "      <th></th>\n",
       "      <th>0</th>\n",
       "      <th>1</th>\n",
       "    </tr>\n",
       "  </thead>\n",
       "  <tbody>\n",
       "    <tr>\n",
       "      <th>0</th>\n",
       "      <td>1.576923</td>\n",
       "      <td>2.423077</td>\n",
       "    </tr>\n",
       "    <tr>\n",
       "      <th>1</th>\n",
       "      <td>10.644231</td>\n",
       "      <td>16.355769</td>\n",
       "    </tr>\n",
       "    <tr>\n",
       "      <th>2</th>\n",
       "      <td>15.769231</td>\n",
       "      <td>24.230769</td>\n",
       "    </tr>\n",
       "    <tr>\n",
       "      <th>3</th>\n",
       "      <td>9.067308</td>\n",
       "      <td>13.932692</td>\n",
       "    </tr>\n",
       "    <tr>\n",
       "      <th>4</th>\n",
       "      <td>3.942308</td>\n",
       "      <td>6.057692</td>\n",
       "    </tr>\n",
       "  </tbody>\n",
       "</table>\n",
       "</div>"
      ],
      "text/plain": [
       "           0          1\n",
       "0   1.576923   2.423077\n",
       "1  10.644231  16.355769\n",
       "2  15.769231  24.230769\n",
       "3   9.067308  13.932692\n",
       "4   3.942308   6.057692"
      ]
     },
     "execution_count": 56,
     "metadata": {},
     "output_type": "execute_result"
    }
   ],
   "source": [
    "chi2, p, dof, expected = spstats.chi2_contingency(cont_table,lambda_='log-likelihood')\n",
    "print('chi2 = ', chi2)\n",
    "print('p-val = ', p)\n",
    "print('expeted=' )\n",
    "pd.DataFrame(expected)"
   ]
  },
  {
   "cell_type": "markdown",
   "id": "d91b115b",
   "metadata": {},
   "source": [
    "This would suggest that there is no significant relation between breakfast and tiredness.\n",
    "\n",
    "However, as per the guidelines, the validity of this test will be questioned here, since we do not have enough data for each cell. So the results for this part would be \"Inconclusive.\""
   ]
  },
  {
   "cell_type": "markdown",
   "id": "8ce791fa",
   "metadata": {},
   "source": [
    "### Phone Reach vs Breakfast"
   ]
  },
  {
   "cell_type": "code",
   "execution_count": 106,
   "id": "ccd7e8db",
   "metadata": {},
   "outputs": [
    {
     "data": {
      "text/plain": [
       "KruskalResult(statistic=5.692434339303881, pvalue=0.017038203201089563)"
      ]
     },
     "execution_count": 106,
     "metadata": {},
     "output_type": "execute_result"
    }
   ],
   "source": [
    "usephone =  pp_df[pp_df['PhoneReach'] == 1]['Breakfast']\n",
    "dontusephone = pp_df[pp_df['PhoneReach'] == 0]['Breakfast']\n",
    "spstats.kruskal(usephone, dontusephone)    \n"
   ]
  },
  {
   "cell_type": "markdown",
   "id": "5192d158",
   "metadata": {},
   "source": [
    "We can say that, there is a significant difference in probability of having breakfast, between those who keep phones in arm's reach and those who don't. Since the null hypothesis that both groups have equal probability of having breakfast has very low probability (p=0.014).\n",
    "\n",
    "However, note we need to look at the \"joint distribution\" between these two variables to really test if there is a correlation between Phone Reach and Breakfast. For this we will repeat the Pearson's Chi-Square analysis as before."
   ]
  },
  {
   "cell_type": "code",
   "execution_count": 62,
   "id": "049197d9",
   "metadata": {},
   "outputs": [
    {
     "data": {
      "text/html": [
       "<div>\n",
       "<style scoped>\n",
       "    .dataframe tbody tr th:only-of-type {\n",
       "        vertical-align: middle;\n",
       "    }\n",
       "\n",
       "    .dataframe tbody tr th {\n",
       "        vertical-align: top;\n",
       "    }\n",
       "\n",
       "    .dataframe thead th {\n",
       "        text-align: right;\n",
       "    }\n",
       "</style>\n",
       "<table border=\"1\" class=\"dataframe\">\n",
       "  <thead>\n",
       "    <tr style=\"text-align: right;\">\n",
       "      <th>Breakfast</th>\n",
       "      <th>No</th>\n",
       "      <th>Yes</th>\n",
       "    </tr>\n",
       "    <tr>\n",
       "      <th>PhoneReach</th>\n",
       "      <th></th>\n",
       "      <th></th>\n",
       "    </tr>\n",
       "  </thead>\n",
       "  <tbody>\n",
       "    <tr>\n",
       "      <th>No</th>\n",
       "      <td>7</td>\n",
       "      <td>25</td>\n",
       "    </tr>\n",
       "    <tr>\n",
       "      <th>Yes</th>\n",
       "      <td>34</td>\n",
       "      <td>38</td>\n",
       "    </tr>\n",
       "  </tbody>\n",
       "</table>\n",
       "</div>"
      ],
      "text/plain": [
       "Breakfast   No  Yes\n",
       "PhoneReach         \n",
       "No           7   25\n",
       "Yes         34   38"
      ]
     },
     "execution_count": 62,
     "metadata": {},
     "output_type": "execute_result"
    }
   ],
   "source": [
    "cont_table2 = pd.crosstab(df.PhoneReach, df.Breakfast)\n",
    "cont_table2"
   ]
  },
  {
   "cell_type": "markdown",
   "id": "733e7a1c",
   "metadata": {},
   "source": [
    "Here we can see that of those who kept the phone close to them: ~ half had breakfast and half didn't.\n",
    "However, those who didn't keep phone close in arm's reach, almost always had breakfast.\n",
    "\n",
    "This suggests that there must be a relationship between these variables."
   ]
  },
  {
   "cell_type": "code",
   "execution_count": 65,
   "id": "811985ae",
   "metadata": {},
   "outputs": [
    {
     "name": "stdout",
     "output_type": "stream",
     "text": [
      "chi2 =  5.171160158238317\n",
      "p-val =  0.022964873971438402\n",
      "expeted=\n"
     ]
    },
    {
     "data": {
      "text/html": [
       "<div>\n",
       "<style scoped>\n",
       "    .dataframe tbody tr th:only-of-type {\n",
       "        vertical-align: middle;\n",
       "    }\n",
       "\n",
       "    .dataframe tbody tr th {\n",
       "        vertical-align: top;\n",
       "    }\n",
       "\n",
       "    .dataframe thead th {\n",
       "        text-align: right;\n",
       "    }\n",
       "</style>\n",
       "<table border=\"1\" class=\"dataframe\">\n",
       "  <thead>\n",
       "    <tr style=\"text-align: right;\">\n",
       "      <th></th>\n",
       "      <th>0</th>\n",
       "      <th>1</th>\n",
       "    </tr>\n",
       "  </thead>\n",
       "  <tbody>\n",
       "    <tr>\n",
       "      <th>0</th>\n",
       "      <td>12.615385</td>\n",
       "      <td>19.384615</td>\n",
       "    </tr>\n",
       "    <tr>\n",
       "      <th>1</th>\n",
       "      <td>28.384615</td>\n",
       "      <td>43.615385</td>\n",
       "    </tr>\n",
       "  </tbody>\n",
       "</table>\n",
       "</div>"
      ],
      "text/plain": [
       "           0          1\n",
       "0  12.615385  19.384615\n",
       "1  28.384615  43.615385"
      ]
     },
     "execution_count": 65,
     "metadata": {},
     "output_type": "execute_result"
    }
   ],
   "source": [
    "chi2, p, dof, expected = spstats.chi2_contingency(cont_table2,lambda_='log-likelihood')\n",
    "print('chi2 = ', chi2)\n",
    "print('p-val = ', p)\n",
    "print('expeted=' )\n",
    "pd.DataFrame(expected)"
   ]
  },
  {
   "cell_type": "markdown",
   "id": "f0b35d30",
   "metadata": {},
   "source": [
    "Here we confirm that there is a significant relation between having breakfast and keeping phone in arm's reach, since the null hypothesis of independence of two variables is low (p-val =0.02)"
   ]
  },
  {
   "cell_type": "markdown",
   "id": "2cae5caa",
   "metadata": {},
   "source": [
    "In particular, people who didn't have breakfast and didn't keep phones in arm's reach are less than expected.\n",
    "People who did both are also less than expected, \n",
    "\n",
    "While people who had breakfast and did not keep phone in arm's reach or people who didn't have breakfast and kept phone in arm's reach are more than expected. (Sounds complicated? That's why we need math!)."
   ]
  },
  {
   "cell_type": "markdown",
   "id": "5eaafb3e",
   "metadata": {},
   "source": [
    "### Phone Reach and Sleep Sufficiency"
   ]
  },
  {
   "cell_type": "code",
   "execution_count": 74,
   "id": "444d09d8",
   "metadata": {},
   "outputs": [
    {
     "data": {
      "text/html": [
       "<div>\n",
       "<style scoped>\n",
       "    .dataframe tbody tr th:only-of-type {\n",
       "        vertical-align: middle;\n",
       "    }\n",
       "\n",
       "    .dataframe tbody tr th {\n",
       "        vertical-align: top;\n",
       "    }\n",
       "\n",
       "    .dataframe thead th {\n",
       "        text-align: right;\n",
       "    }\n",
       "</style>\n",
       "<table border=\"1\" class=\"dataframe\">\n",
       "  <thead>\n",
       "    <tr style=\"text-align: right;\">\n",
       "      <th>Enough</th>\n",
       "      <th>No</th>\n",
       "      <th>Yes</th>\n",
       "    </tr>\n",
       "    <tr>\n",
       "      <th>PhoneReach</th>\n",
       "      <th></th>\n",
       "      <th></th>\n",
       "    </tr>\n",
       "  </thead>\n",
       "  <tbody>\n",
       "    <tr>\n",
       "      <th>No</th>\n",
       "      <td>19</td>\n",
       "      <td>13</td>\n",
       "    </tr>\n",
       "    <tr>\n",
       "      <th>Yes</th>\n",
       "      <td>49</td>\n",
       "      <td>23</td>\n",
       "    </tr>\n",
       "  </tbody>\n",
       "</table>\n",
       "</div>"
      ],
      "text/plain": [
       "Enough      No  Yes\n",
       "PhoneReach         \n",
       "No          19   13\n",
       "Yes         49   23"
      ]
     },
     "execution_count": 74,
     "metadata": {},
     "output_type": "execute_result"
    }
   ],
   "source": [
    "cont_table3 = pd.crosstab(df.PhoneReach, df.Enough)\n",
    "cont_table3"
   ]
  },
  {
   "cell_type": "code",
   "execution_count": 76,
   "id": "d089ce6b",
   "metadata": {},
   "outputs": [
    {
     "name": "stdout",
     "output_type": "stream",
     "text": [
      "chi2 =  0.3999650906141028\n",
      "p-val =  0.5271072860735326\n",
      "expeted=\n"
     ]
    },
    {
     "data": {
      "text/html": [
       "<div>\n",
       "<style scoped>\n",
       "    .dataframe tbody tr th:only-of-type {\n",
       "        vertical-align: middle;\n",
       "    }\n",
       "\n",
       "    .dataframe tbody tr th {\n",
       "        vertical-align: top;\n",
       "    }\n",
       "\n",
       "    .dataframe thead th {\n",
       "        text-align: right;\n",
       "    }\n",
       "</style>\n",
       "<table border=\"1\" class=\"dataframe\">\n",
       "  <thead>\n",
       "    <tr style=\"text-align: right;\">\n",
       "      <th></th>\n",
       "      <th>0</th>\n",
       "      <th>1</th>\n",
       "    </tr>\n",
       "  </thead>\n",
       "  <tbody>\n",
       "    <tr>\n",
       "      <th>0</th>\n",
       "      <td>20.923077</td>\n",
       "      <td>11.076923</td>\n",
       "    </tr>\n",
       "    <tr>\n",
       "      <th>1</th>\n",
       "      <td>47.076923</td>\n",
       "      <td>24.923077</td>\n",
       "    </tr>\n",
       "  </tbody>\n",
       "</table>\n",
       "</div>"
      ],
      "text/plain": [
       "           0          1\n",
       "0  20.923077  11.076923\n",
       "1  47.076923  24.923077"
      ]
     },
     "execution_count": 76,
     "metadata": {},
     "output_type": "execute_result"
    }
   ],
   "source": [
    "chi2, p, dof, expected = spstats.chi2_contingency(cont_table3,lambda_='log-likelihood')\n",
    "print('chi2 = ', chi2)\n",
    "print('p-val = ', p)\n",
    "print('expeted=' )\n",
    "pd.DataFrame(expected)"
   ]
  },
  {
   "cell_type": "markdown",
   "id": "77ee5aff",
   "metadata": {},
   "source": [
    "There doesn't seem to be any relationship between keeping phone close and having enough sleep, since observed distribution is very close to that expected from null hypothesis."
   ]
  },
  {
   "cell_type": "markdown",
   "id": "f889d689",
   "metadata": {},
   "source": [
    "### Phone Reach and Tiredness"
   ]
  },
  {
   "cell_type": "code",
   "execution_count": 78,
   "id": "9a8a96db",
   "metadata": {},
   "outputs": [
    {
     "data": {
      "text/html": [
       "<div>\n",
       "<style scoped>\n",
       "    .dataframe tbody tr th:only-of-type {\n",
       "        vertical-align: middle;\n",
       "    }\n",
       "\n",
       "    .dataframe tbody tr th {\n",
       "        vertical-align: top;\n",
       "    }\n",
       "\n",
       "    .dataframe thead th {\n",
       "        text-align: right;\n",
       "    }\n",
       "</style>\n",
       "<table border=\"1\" class=\"dataframe\">\n",
       "  <thead>\n",
       "    <tr style=\"text-align: right;\">\n",
       "      <th>Tired</th>\n",
       "      <th>1</th>\n",
       "      <th>2</th>\n",
       "      <th>3</th>\n",
       "      <th>4</th>\n",
       "      <th>5</th>\n",
       "    </tr>\n",
       "    <tr>\n",
       "      <th>PhoneReach</th>\n",
       "      <th></th>\n",
       "      <th></th>\n",
       "      <th></th>\n",
       "      <th></th>\n",
       "      <th></th>\n",
       "    </tr>\n",
       "  </thead>\n",
       "  <tbody>\n",
       "    <tr>\n",
       "      <th>No</th>\n",
       "      <td>2</td>\n",
       "      <td>10</td>\n",
       "      <td>7</td>\n",
       "      <td>6</td>\n",
       "      <td>7</td>\n",
       "    </tr>\n",
       "    <tr>\n",
       "      <th>Yes</th>\n",
       "      <td>2</td>\n",
       "      <td>17</td>\n",
       "      <td>33</td>\n",
       "      <td>17</td>\n",
       "      <td>3</td>\n",
       "    </tr>\n",
       "  </tbody>\n",
       "</table>\n",
       "</div>"
      ],
      "text/plain": [
       "Tired       1   2   3   4  5\n",
       "PhoneReach                  \n",
       "No          2  10   7   6  7\n",
       "Yes         2  17  33  17  3"
      ]
     },
     "execution_count": 78,
     "metadata": {},
     "output_type": "execute_result"
    }
   ],
   "source": [
    "cont_table4 = pd.crosstab(df.PhoneReach, df.Tired)\n",
    "cont_table4"
   ]
  },
  {
   "cell_type": "markdown",
   "id": "68c7ae6e",
   "metadata": {},
   "source": [
    "Again, here we don't have sufficient data. However, if we combined tiredness scales 1-2 and 4-5 we could gain some insights, we will do that in future."
   ]
  },
  {
   "cell_type": "markdown",
   "id": "72b47d0e",
   "metadata": {},
   "source": [
    "### Sleep And Breakfast"
   ]
  },
  {
   "cell_type": "code",
   "execution_count": 94,
   "id": "f8356ec9",
   "metadata": {},
   "outputs": [],
   "source": [
    "'''\n",
    "We need to handle missing value from Hours column before we can check this.\n",
    "We will simply remove those two subjects who do not have entries for how many hours on average they sleep.\n",
    "'''\n",
    "pp_df = pp_df.dropna()"
   ]
  },
  {
   "cell_type": "code",
   "execution_count": 107,
   "id": "9da19e64",
   "metadata": {},
   "outputs": [
    {
     "data": {
      "text/plain": [
       "KruskalResult(statistic=5.4916583555937475, pvalue=0.019107410844146248)"
      ]
     },
     "execution_count": 107,
     "metadata": {},
     "output_type": "execute_result"
    }
   ],
   "source": [
    "hours_nobf =  pp_df[pp_df['Breakfast'] == 0]['Hours']\n",
    "hours_yesbf = pp_df[pp_df['Breakfast'] == 1]['Hours']\n",
    "spstats.kruskal(hours_nobf, hours_yesbf)    \n",
    "\n"
   ]
  },
  {
   "cell_type": "code",
   "execution_count": 98,
   "id": "65f1ea93",
   "metadata": {},
   "outputs": [
    {
     "data": {
      "text/html": [
       "<div>\n",
       "<style scoped>\n",
       "    .dataframe tbody tr th:only-of-type {\n",
       "        vertical-align: middle;\n",
       "    }\n",
       "\n",
       "    .dataframe tbody tr th {\n",
       "        vertical-align: top;\n",
       "    }\n",
       "\n",
       "    .dataframe thead th {\n",
       "        text-align: right;\n",
       "    }\n",
       "</style>\n",
       "<table border=\"1\" class=\"dataframe\">\n",
       "  <thead>\n",
       "    <tr style=\"text-align: right;\">\n",
       "      <th></th>\n",
       "      <th>Enough</th>\n",
       "      <th>Hours</th>\n",
       "      <th>PhoneReach</th>\n",
       "      <th>PhoneTime</th>\n",
       "      <th>Tired</th>\n",
       "    </tr>\n",
       "    <tr>\n",
       "      <th>Breakfast</th>\n",
       "      <th></th>\n",
       "      <th></th>\n",
       "      <th></th>\n",
       "      <th></th>\n",
       "      <th></th>\n",
       "    </tr>\n",
       "  </thead>\n",
       "  <tbody>\n",
       "    <tr>\n",
       "      <th>1</th>\n",
       "      <td>0.393443</td>\n",
       "      <td>6.918033</td>\n",
       "      <td>0.606557</td>\n",
       "      <td>0.819672</td>\n",
       "      <td>2.885246</td>\n",
       "    </tr>\n",
       "    <tr>\n",
       "      <th>0</th>\n",
       "      <td>0.268293</td>\n",
       "      <td>6.268293</td>\n",
       "      <td>0.829268</td>\n",
       "      <td>0.804878</td>\n",
       "      <td>3.390244</td>\n",
       "    </tr>\n",
       "  </tbody>\n",
       "</table>\n",
       "</div>"
      ],
      "text/plain": [
       "             Enough     Hours  PhoneReach  PhoneTime     Tired\n",
       "Breakfast                                                     \n",
       "1          0.393443  6.918033    0.606557   0.819672  2.885246\n",
       "0          0.268293  6.268293    0.829268   0.804878  3.390244"
      ]
     },
     "execution_count": 98,
     "metadata": {},
     "output_type": "execute_result"
    }
   ],
   "source": [
    "pp_df.groupby(pd.Grouper(key=\"Breakfast\")).mean()"
   ]
  },
  {
   "cell_type": "markdown",
   "id": "f1716804",
   "metadata": {},
   "source": [
    "Initially, from a simple non-parametric Kruskal-Wallis H-test we can see that there is a very small but significant difference in sleep hours between those who had breakfast and those who didn't. Those who had breakfast slept on average ~40 mins more than those who didn't have breakfast! \n",
    "\n",
    "However, given the variability of sample, this is a weak conclusion, and we probably need more data for this (check the box-plot above!)\n"
   ]
  },
  {
   "cell_type": "markdown",
   "id": "40f2a53d",
   "metadata": {},
   "source": [
    "Here we treated tiredness scores as categorical variable during statistical analysis, which is the right way. However, we could take a look at it as continous variable, too. To get some idea about it.As we can see that average tiredness scores were different across many categories.\n",
    " \n",
    "More on this debate here: https://www.theanalysisfactor.com/can-likert-scale-data-ever-be-continuous/"
   ]
  },
  {
   "cell_type": "markdown",
   "id": "562e506a",
   "metadata": {},
   "source": [
    "To conclude, keeping phone in arm's reach is related to having breakfast or not. The data is insufficient to make any other conclusions. In future, if we have more data, we can look at how tiredness is related to having breakfast, and keeping phone close to bed.\n",
    "\n",
    "\n",
    "We couldn't find any significant strong relation between phone use and sleep sufficiency. Or sleep sufficiency and having breakfast. However, we indeed see that those who reported having breakfast, slept more than those who didn't. We couldn't see the same effect on \n",
    "\n",
    "In future, going towards more multivariate approaches, we would try to use \"Factor Analysis\" to understand how each of these variables are related to each other, and also try to predict whether someone will have breakfast or not, based on all other factors!"
   ]
  }
 ],
 "metadata": {
  "kernelspec": {
   "display_name": "Python 3",
   "language": "python",
   "name": "python3"
  },
  "language_info": {
   "codemirror_mode": {
    "name": "ipython",
    "version": 3
   },
   "file_extension": ".py",
   "mimetype": "text/x-python",
   "name": "python",
   "nbconvert_exporter": "python",
   "pygments_lexer": "ipython3",
   "version": "3.8.8"
  }
 },
 "nbformat": 4,
 "nbformat_minor": 5
}
