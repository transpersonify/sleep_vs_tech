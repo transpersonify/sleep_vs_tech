{
 "cells": [
  {
   "cell_type": "code",
   "execution_count": 13,
   "id": "e56bab9b",
   "metadata": {},
   "outputs": [],
   "source": [
    "%matplotlib inline\n",
    "\n",
    "import pandas as pd\n",
    "import matplotlib.pyplot as plt\n",
    "plt.rcParams['lines.linewidth'] = 2 # set the value globally\n",
    "import seaborn as sns"
   ]
  },
  {
   "cell_type": "markdown",
   "id": "35f8a3a4",
   "metadata": {},
   "source": [
    "This data was obtained from : http://kaggle.com/mlomuscio/sleepstudypilot\n",
    "\n",
    "Data collected from a survey-based study of the sleeping habits of individuals within the US. This data was conducted as a pilot study to determine whether or not students were satisfied with the survey.\n",
    "\n",
    "Here is a description of each of the variables contained within the dataset.\n",
    "\n",
    "Enough = Do you think that you get enough sleep?\n",
    "\n",
    "Hours = On average, how many hours of sleep do you get on a weeknight?\n",
    "\n",
    "PhoneReach = Do you sleep with your phone within arms reach?\n",
    "\n",
    "PhoneTime = Do you use your phone within 30 minutes of falling asleep?\n",
    "\n",
    "Tired = On a scale from 1 to 5, how tired are you throughout the day? (1 being not tired, 5 being very tired)\n",
    "\n",
    "Breakfast = Do you typically eat breakfast?"
   ]
  },
  {
   "cell_type": "code",
   "execution_count": 31,
   "id": "a88e7c82",
   "metadata": {},
   "outputs": [
    {
     "data": {
      "text/html": [
       "<div>\n",
       "<style scoped>\n",
       "    .dataframe tbody tr th:only-of-type {\n",
       "        vertical-align: middle;\n",
       "    }\n",
       "\n",
       "    .dataframe tbody tr th {\n",
       "        vertical-align: top;\n",
       "    }\n",
       "\n",
       "    .dataframe thead th {\n",
       "        text-align: right;\n",
       "    }\n",
       "</style>\n",
       "<table border=\"1\" class=\"dataframe\">\n",
       "  <thead>\n",
       "    <tr style=\"text-align: right;\">\n",
       "      <th></th>\n",
       "      <th>Enough</th>\n",
       "      <th>Hours</th>\n",
       "      <th>PhoneReach</th>\n",
       "      <th>PhoneTime</th>\n",
       "      <th>Tired</th>\n",
       "      <th>Breakfast</th>\n",
       "    </tr>\n",
       "  </thead>\n",
       "  <tbody>\n",
       "    <tr>\n",
       "      <th>0</th>\n",
       "      <td>Yes</td>\n",
       "      <td>8.0</td>\n",
       "      <td>Yes</td>\n",
       "      <td>Yes</td>\n",
       "      <td>3</td>\n",
       "      <td>Yes</td>\n",
       "    </tr>\n",
       "    <tr>\n",
       "      <th>1</th>\n",
       "      <td>No</td>\n",
       "      <td>6.0</td>\n",
       "      <td>Yes</td>\n",
       "      <td>Yes</td>\n",
       "      <td>3</td>\n",
       "      <td>No</td>\n",
       "    </tr>\n",
       "    <tr>\n",
       "      <th>2</th>\n",
       "      <td>Yes</td>\n",
       "      <td>6.0</td>\n",
       "      <td>Yes</td>\n",
       "      <td>Yes</td>\n",
       "      <td>2</td>\n",
       "      <td>Yes</td>\n",
       "    </tr>\n",
       "    <tr>\n",
       "      <th>3</th>\n",
       "      <td>No</td>\n",
       "      <td>7.0</td>\n",
       "      <td>Yes</td>\n",
       "      <td>Yes</td>\n",
       "      <td>4</td>\n",
       "      <td>No</td>\n",
       "    </tr>\n",
       "    <tr>\n",
       "      <th>4</th>\n",
       "      <td>No</td>\n",
       "      <td>7.0</td>\n",
       "      <td>Yes</td>\n",
       "      <td>Yes</td>\n",
       "      <td>2</td>\n",
       "      <td>Yes</td>\n",
       "    </tr>\n",
       "  </tbody>\n",
       "</table>\n",
       "</div>"
      ],
      "text/plain": [
       "  Enough  Hours PhoneReach PhoneTime  Tired Breakfast\n",
       "0    Yes    8.0        Yes       Yes      3       Yes\n",
       "1     No    6.0        Yes       Yes      3        No\n",
       "2    Yes    6.0        Yes       Yes      2       Yes\n",
       "3     No    7.0        Yes       Yes      4        No\n",
       "4     No    7.0        Yes       Yes      2       Yes"
      ]
     },
     "execution_count": 31,
     "metadata": {},
     "output_type": "execute_result"
    }
   ],
   "source": [
    "df = pd.read_csv('SleepStudyData.csv')\n",
    "df.head()\n",
    "df.head()"
   ]
  },
  {
   "cell_type": "markdown",
   "id": "c2a0ceeb",
   "metadata": {},
   "source": [
    "First we will explore whether there is a descrepency between the two types of answers. (Whether they get enough sleep and hours they slept)"
   ]
  },
  {
   "cell_type": "code",
   "execution_count": 25,
   "id": "13328950",
   "metadata": {},
   "outputs": [
    {
     "data": {
      "text/plain": [
       "<AxesSubplot:xlabel='Enough', ylabel='Hours'>"
      ]
     },
     "execution_count": 25,
     "metadata": {},
     "output_type": "execute_result"
    },
    {
     "data": {
      "image/png": "[encoded data removed]",
      "text/plain": [
       "<Figure size 432x288 with 1 Axes>"
      ]
     },
     "metadata": {
      "needs_background": "light"
     },
     "output_type": "display_data"
    }
   ],
   "source": [
    "sns.boxplot(x = 'Enough',y = 'Hours',data=df)\n",
    "sns.stripplot(x=\"Enough\", y=\"Hours\", data=df,\n",
    "              size=6, color=\".3\", linewidth=0)\n"
   ]
  },
  {
   "cell_type": "markdown",
   "id": "dcc782dc",
   "metadata": {},
   "source": [
    "On average, those who slept enough slept for ~2 hour more than those who reported not sleeping well!\n",
    "There is less variability in the group that said sleeping well as compared to group that reported not sleeping well. Next we will check if there is a relationship between feeling tired and sleep hours"
   ]
  },
  {
   "cell_type": "code",
   "execution_count": 22,
   "id": "1d8a7f42",
   "metadata": {},
   "outputs": [
    {
     "data": {
      "text/plain": [
       "Text(0.5, 0, 'Intensity of Tiredness')"
      ]
     },
     "execution_count": 22,
     "metadata": {},
     "output_type": "execute_result"
    },
    {
     "data": {
      "image/png": "[encoded data removed]",
      "text/plain": [
       "<Figure size 432x288 with 1 Axes>"
      ]
     },
     "metadata": {
      "needs_background": "light"
     },
     "output_type": "display_data"
    }
   ],
   "source": [
    "sns.barplot(x = 'Tired',y='Hours',data=df)\n",
    "plt.ylabel('Hours of Sleep')\n",
    "plt.xlabel('Intensity of Tiredness')"
   ]
  },
  {
   "cell_type": "markdown",
   "id": "a8316912",
   "metadata": {},
   "source": [
    "Those who felt least tired slept longer, those who felt most tired slept on average ~ 6 hrs,\n",
    "Let's see relationship between phone use and sleep sufficiency."
   ]
  },
  {
   "cell_type": "code",
   "execution_count": 44,
   "id": "eec9d1c7",
   "metadata": {},
   "outputs": [],
   "source": [
    "pp_df = df.copy()\n",
    "pp_df.Enough = pp_df.Enough.eq('Yes').mul(1)\n",
    "pp_df.PhoneReach = pp_df.PhoneReach.eq('Yes').mul(1)\n",
    "pp_df.PhoneTime = pp_df.PhoneTime.eq('Yes').mul(1)\n",
    "pp_df.Breakfast = pp_df.Breakfast.eq('Yes').mul(1)\n",
    "                                        "
   ]
  },
  {
   "cell_type": "code",
   "execution_count": 53,
   "id": "b00e90f6",
   "metadata": {},
   "outputs": [
    {
     "data": {
      "text/plain": [
       "Text(0.5, 1.0, 'Sleep Hours by Phone Reach Preference')"
      ]
     },
     "execution_count": 53,
     "metadata": {},
     "output_type": "execute_result"
    },
    {
     "data": {
      "image/png": "[encoded data removed]",
      "text/plain": [
       "<Figure size 432x288 with 1 Axes>"
      ]
     },
     "metadata": {
      "needs_background": "light"
     },
     "output_type": "display_data"
    },
    {
     "data": {
      "image/png": "[encoded data removed]",
      "text/plain": [
       "<Figure size 432x288 with 1 Axes>"
      ]
     },
     "metadata": {
      "needs_background": "light"
     },
     "output_type": "display_data"
    }
   ],
   "source": [
    "sns.barplot(x = 'PhoneTime',y='Hours',data=df)\n",
    "plt.title('Sleep Hours by Phone Use Preference')\n",
    "plt.figure()\n",
    "sns.barplot(x='PhoneReach',y='Hours',data=df)\n",
    "plt.title('Sleep Hours by Phone Reach Preference')\n"
   ]
  },
  {
   "cell_type": "markdown",
   "id": "2605418b",
   "metadata": {},
   "source": [
    "Looks like there is hardly any difference of total sleep time between those who use phone and those who don't. Those who don't use phone sleep slightly less in fact.\n"
   ]
  },
  {
   "cell_type": "code",
   "execution_count": 63,
   "id": "025149fb",
   "metadata": {},
   "outputs": [
    {
     "data": {
      "text/plain": [
       "Text(0.5, 1.0, 'Phone Time ')"
      ]
     },
     "execution_count": 63,
     "metadata": {},
     "output_type": "execute_result"
    },
    {
     "data": {
      "image/png": "[encoded data removed]",
      "text/plain": [
       "<Figure size 432x288 with 1 Axes>"
      ]
     },
     "metadata": {
      "needs_background": "light"
     },
     "output_type": "display_data"
    },
    {
     "data": {
      "image/png": "[encoded data removed]",
      "text/plain": [
       "<Figure size 432x288 with 1 Axes>"
      ]
     },
     "metadata": {
      "needs_background": "light"
     },
     "output_type": "display_data"
    }
   ],
   "source": [
    "sns.barplot(x='PhoneReach',y='Enough',data = pp_df)\n",
    "plt.title('Phone Reach ')\n",
    "plt.figure()\n",
    "\n",
    "sns.barplot(x='PhoneTime',y='Enough',data=pp_df)\n",
    "plt.title('Phone Time ')\n"
   ]
  },
  {
   "cell_type": "markdown",
   "id": "6ef6b112",
   "metadata": {},
   "source": [
    "Those who sleep close to Phone are less likely to say that they had enough sleep as compared to those who sleep away from phone, but no correlation to phone use within 30 mins of sleep.\n",
    "\n",
    "Now let's look at breakfast, those who feel LESS TIRED are more likely to have breakfast."
   ]
  },
  {
   "cell_type": "code",
   "execution_count": 91,
   "id": "7bf0288e",
   "metadata": {},
   "outputs": [
    {
     "data": {
      "text/plain": [
       "Text(0.5, 0, 'Tiredness Score')"
      ]
     },
     "execution_count": 91,
     "metadata": {},
     "output_type": "execute_result"
    },
    {
     "data": {
      "image/png": "[encoded data removed]",
      "text/plain": [
       "<Figure size 432x288 with 1 Axes>"
      ]
     },
     "metadata": {
      "needs_background": "light"
     },
     "output_type": "display_data"
    }
   ],
   "source": [
    "sns.barplot(x='Tired',y='Breakfast',data = pp_df)\n",
    "plt.xlabel('Tiredness Score')"
   ]
  },
  {
   "cell_type": "code",
   "execution_count": 72,
   "id": "b59ed99f",
   "metadata": {},
   "outputs": [
    {
     "data": {
      "text/plain": [
       "<AxesSubplot:xlabel='PhoneReach', ylabel='Tired'>"
      ]
     },
     "execution_count": 72,
     "metadata": {},
     "output_type": "execute_result"
    },
    {
     "data": {
      "image/png": "[encoded data removed]",
      "text/plain": [
       "<Figure size 432x288 with 1 Axes>"
      ]
     },
     "metadata": {
      "needs_background": "light"
     },
     "output_type": "display_data"
    },
    {
     "data": {
      "image/png": "[encoded data removed]",
      "text/plain": [
       "<Figure size 432x288 with 1 Axes>"
      ]
     },
     "metadata": {
      "needs_background": "light"
     },
     "output_type": "display_data"
    }
   ],
   "source": [
    "sns.barplot(x='PhoneTime',y='Tired',data = pp_df)\n",
    "plt.figure()\n",
    "sns.barplot(x='PhoneReach',y='Tired',data = pp_df)\n"
   ]
  },
  {
   "cell_type": "markdown",
   "id": "108612a0",
   "metadata": {},
   "source": [
    "Again, no difference between tiredness and phone use, Looks like There is a ceiling effect in phone use, i.e. most of the participants use phone before sleepig."
   ]
  },
  {
   "cell_type": "code",
   "execution_count": 80,
   "id": "efe263f2",
   "metadata": {},
   "outputs": [
    {
     "data": {
      "text/html": [
       "<div>\n",
       "<style scoped>\n",
       "    .dataframe tbody tr th:only-of-type {\n",
       "        vertical-align: middle;\n",
       "    }\n",
       "\n",
       "    .dataframe tbody tr th {\n",
       "        vertical-align: top;\n",
       "    }\n",
       "\n",
       "    .dataframe thead th {\n",
       "        text-align: right;\n",
       "    }\n",
       "</style>\n",
       "<table border=\"1\" class=\"dataframe\">\n",
       "  <thead>\n",
       "    <tr style=\"text-align: right;\">\n",
       "      <th></th>\n",
       "      <th>Enough</th>\n",
       "      <th>Hours</th>\n",
       "      <th>PhoneReach</th>\n",
       "      <th>PhoneTime</th>\n",
       "      <th>Tired</th>\n",
       "      <th>Breakfast</th>\n",
       "    </tr>\n",
       "  </thead>\n",
       "  <tbody>\n",
       "    <tr>\n",
       "      <th>count</th>\n",
       "      <td>104</td>\n",
       "      <td>102.000000</td>\n",
       "      <td>104</td>\n",
       "      <td>104</td>\n",
       "      <td>104.000000</td>\n",
       "      <td>104</td>\n",
       "    </tr>\n",
       "    <tr>\n",
       "      <th>unique</th>\n",
       "      <td>2</td>\n",
       "      <td>NaN</td>\n",
       "      <td>2</td>\n",
       "      <td>2</td>\n",
       "      <td>NaN</td>\n",
       "      <td>2</td>\n",
       "    </tr>\n",
       "    <tr>\n",
       "      <th>top</th>\n",
       "      <td>No</td>\n",
       "      <td>NaN</td>\n",
       "      <td>Yes</td>\n",
       "      <td>Yes</td>\n",
       "      <td>NaN</td>\n",
       "      <td>Yes</td>\n",
       "    </tr>\n",
       "    <tr>\n",
       "      <th>freq</th>\n",
       "      <td>68</td>\n",
       "      <td>NaN</td>\n",
       "      <td>72</td>\n",
       "      <td>84</td>\n",
       "      <td>NaN</td>\n",
       "      <td>63</td>\n",
       "    </tr>\n",
       "    <tr>\n",
       "      <th>mean</th>\n",
       "      <td>NaN</td>\n",
       "      <td>6.656863</td>\n",
       "      <td>NaN</td>\n",
       "      <td>NaN</td>\n",
       "      <td>3.076923</td>\n",
       "      <td>NaN</td>\n",
       "    </tr>\n",
       "    <tr>\n",
       "      <th>std</th>\n",
       "      <td>NaN</td>\n",
       "      <td>1.417676</td>\n",
       "      <td>NaN</td>\n",
       "      <td>NaN</td>\n",
       "      <td>1.011510</td>\n",
       "      <td>NaN</td>\n",
       "    </tr>\n",
       "    <tr>\n",
       "      <th>min</th>\n",
       "      <td>NaN</td>\n",
       "      <td>2.000000</td>\n",
       "      <td>NaN</td>\n",
       "      <td>NaN</td>\n",
       "      <td>1.000000</td>\n",
       "      <td>NaN</td>\n",
       "    </tr>\n",
       "    <tr>\n",
       "      <th>25%</th>\n",
       "      <td>NaN</td>\n",
       "      <td>6.000000</td>\n",
       "      <td>NaN</td>\n",
       "      <td>NaN</td>\n",
       "      <td>2.000000</td>\n",
       "      <td>NaN</td>\n",
       "    </tr>\n",
       "    <tr>\n",
       "      <th>50%</th>\n",
       "      <td>NaN</td>\n",
       "      <td>7.000000</td>\n",
       "      <td>NaN</td>\n",
       "      <td>NaN</td>\n",
       "      <td>3.000000</td>\n",
       "      <td>NaN</td>\n",
       "    </tr>\n",
       "    <tr>\n",
       "      <th>75%</th>\n",
       "      <td>NaN</td>\n",
       "      <td>7.000000</td>\n",
       "      <td>NaN</td>\n",
       "      <td>NaN</td>\n",
       "      <td>4.000000</td>\n",
       "      <td>NaN</td>\n",
       "    </tr>\n",
       "    <tr>\n",
       "      <th>max</th>\n",
       "      <td>NaN</td>\n",
       "      <td>10.000000</td>\n",
       "      <td>NaN</td>\n",
       "      <td>NaN</td>\n",
       "      <td>5.000000</td>\n",
       "      <td>NaN</td>\n",
       "    </tr>\n",
       "  </tbody>\n",
       "</table>\n",
       "</div>"
      ],
      "text/plain": [
       "       Enough       Hours PhoneReach PhoneTime       Tired Breakfast\n",
       "count     104  102.000000        104       104  104.000000       104\n",
       "unique      2         NaN          2         2         NaN         2\n",
       "top        No         NaN        Yes       Yes         NaN       Yes\n",
       "freq       68         NaN         72        84         NaN        63\n",
       "mean      NaN    6.656863        NaN       NaN    3.076923       NaN\n",
       "std       NaN    1.417676        NaN       NaN    1.011510       NaN\n",
       "min       NaN    2.000000        NaN       NaN    1.000000       NaN\n",
       "25%       NaN    6.000000        NaN       NaN    2.000000       NaN\n",
       "50%       NaN    7.000000        NaN       NaN    3.000000       NaN\n",
       "75%       NaN    7.000000        NaN       NaN    4.000000       NaN\n",
       "max       NaN   10.000000        NaN       NaN    5.000000       NaN"
      ]
     },
     "execution_count": 80,
     "metadata": {},
     "output_type": "execute_result"
    }
   ],
   "source": [
    "df.describe(include='all'), "
   ]
  },
  {
   "cell_type": "markdown",
   "id": "3fd468d5",
   "metadata": {},
   "source": [
    "Finally, is there a relationship between having breakfast and using phone in the night?\n"
   ]
  },
  {
   "cell_type": "code",
   "execution_count": 81,
   "id": "ea9b5038",
   "metadata": {},
   "outputs": [
    {
     "data": {
      "text/plain": [
       "<AxesSubplot:xlabel='PhoneReach', ylabel='Breakfast'>"
      ]
     },
     "execution_count": 81,
     "metadata": {},
     "output_type": "execute_result"
    },
    {
     "data": {
      "image/png": "[encoded data removed]",
      "text/plain": [
       "<Figure size 432x288 with 1 Axes>"
      ]
     },
     "metadata": {
      "needs_background": "light"
     },
     "output_type": "display_data"
    },
    {
     "data": {
      "image/png": "[encoded data removed]",
      "text/plain": [
       "<Figure size 432x288 with 1 Axes>"
      ]
     },
     "metadata": {
      "needs_background": "light"
     },
     "output_type": "display_data"
    }
   ],
   "source": [
    "sns.barplot(x='PhoneTime',y='Breakfast',data = pp_df)\n",
    "plt.figure()\n",
    "sns.barplot(x='PhoneReach',y='Breakfast',data = pp_df)\n",
    "\n"
   ]
  },
  {
   "cell_type": "markdown",
   "id": "06fbeaf3",
   "metadata": {},
   "source": [
    "Wow, there is no effect of using phone in the last 30 mins, but there is a clear effect of whether phone is in arm's reach.\n",
    "\n",
    "People who don't keep phones close to them are more likely to have breakfast than those who don't."
   ]
  },
  {
   "cell_type": "markdown",
   "id": "661b8cac",
   "metadata": {},
   "source": [
    "So there is a correlation between Phone Reach and Having breakfast, there is also a correlation between having breakfast and feeling tired, but no direct correlation between having phone in arm's reach and feeling tired!\n",
    "\n",
    "\n"
   ]
  },
  {
   "cell_type": "markdown",
   "id": "b812cce1",
   "metadata": {},
   "source": [
    "Let's do some stats now"
   ]
  },
  {
   "cell_type": "code",
   "execution_count": 84,
   "id": "070d2cef",
   "metadata": {},
   "outputs": [],
   "source": [
    "import scipy.stats as spstats"
   ]
  },
  {
   "cell_type": "code",
   "execution_count": 87,
   "id": "ccd7e8db",
   "metadata": {},
   "outputs": [
    {
     "data": {
      "text/plain": [
       "Ttest_indResult(statistic=-2.4901453062370433, pvalue=0.014384278169257794)"
      ]
     },
     "execution_count": 87,
     "metadata": {},
     "output_type": "execute_result"
    }
   ],
   "source": [
    "usephone =  pp_df[pp_df['PhoneReach'] == 1]['Breakfast']\n",
    "dontusephone = pp_df[pp_df['PhoneReach'] == 0]['Breakfast']\n",
    "spstats.ttest_ind(usephone, dontusephone)    # As expected this difference is significant.\n"
   ]
  },
  {
   "cell_type": "code",
   "execution_count": 90,
   "id": "1e88fe2d",
   "metadata": {},
   "outputs": [
    {
     "data": {
      "text/plain": [
       "Ttest_indResult(statistic=-0.7415988894018628, pvalue=0.46003451514678984)"
      ]
     },
     "execution_count": 90,
     "metadata": {},
     "output_type": "execute_result"
    }
   ],
   "source": [
    "tired_usephone = pp_df[pp_df['PhoneReach']==1]['Tired']\n",
    "tired_dontusephone = pp_df[pp_df['PhoneReach'] == 0]['Tired']\n",
    "spstats.ttest_ind(tired_usephone, tired_dontusephone)    # This relationship is not significant.\n"
   ]
  }
 ],
 "metadata": {
  "kernelspec": {
   "display_name": "Python 3",
   "language": "python",
   "name": "python3"
  },
  "language_info": {
   "codemirror_mode": {
    "name": "ipython",
    "version": 3
   },
   "file_extension": ".py",
   "mimetype": "text/x-python",
   "name": "python",
   "nbconvert_exporter": "python",
   "pygments_lexer": "ipython3",
   "version": "3.8.8"
  }
 },
 "nbformat": 4,
 "nbformat_minor": 5
}
